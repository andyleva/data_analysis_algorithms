{
 "cells": [
  {
   "cell_type": "markdown",
   "metadata": {},
   "source": [
    "# Алгоритмы анализа данных"
   ]
  },
  {
   "cell_type": "markdown",
   "metadata": {},
   "source": [
    "### Домашнее задание №2 Урок 2. Масштабирование признаков. Регуляризация. Стохастический градиентный спуск."
   ]
  },
  {
   "cell_type": "markdown",
   "metadata": {},
   "source": [
    "1)Сгенерировать датасет при помощи sklearn.datasets.make_regression и обучить линейную модель при помощи градиентного спуска и стохастического градиентного спуска. Построить графики среднеквадратичной ошибки от числа итераций для обоих методов на одном рисунке, сделать выводы о разнице скорости сходимости каждого из методов."
   ]
  },
  {
   "cell_type": "code",
   "execution_count": 1,
   "metadata": {},
   "outputs": [],
   "source": [
    "from sklearn import datasets\n",
    "import numpy as np\n",
    "import matplotlib.pyplot as plt\n",
    "\n",
    "X_, y_, coef = datasets.make_regression(n_samples=1000, \n",
    "                                      n_features=2, \n",
    "                                      n_informative=2, \n",
    "                                      n_targets=1,\n",
    "                                      noise=5, \n",
    "                                      coef=True, \n",
    "                                      random_state=42)"
   ]
  },
  {
   "cell_type": "code",
   "execution_count": 2,
   "metadata": {},
   "outputs": [],
   "source": [
    "def calc_mse(y, y_pred):\n",
    "    err = np.mean((y - y_pred)**2)\n",
    "    return err"
   ]
  },
  {
   "cell_type": "code",
   "execution_count": 3,
   "metadata": {},
   "outputs": [],
   "source": [
    "# Метод градиентного спуска\n",
    "def eval_GD(X, y, iterations, eta=1e-4):\n",
    "    errs=[]\n",
    "    np.random.seed(42)\n",
    "    w = np.random.randn(X.shape[1])\n",
    "    n = X.shape[0]\n",
    "    for i in range(1, iterations + 1):\n",
    "        y_pred = np.dot(X, w)\n",
    "        err = calc_mse(y, y_pred)\n",
    "        errs.append(err)\n",
    "        w -= eta * (1/n * 2 * np.dot(X.T, (y_pred - y)))\n",
    "        if i % (iterations / 10) == 0:\n",
    "            print(f'{i}: weights={w}, MSE={err:.3f}')\n",
    "    return w, errs"
   ]
  },
  {
   "cell_type": "code",
   "execution_count": 4,
   "metadata": {},
   "outputs": [],
   "source": [
    "def standardization(x: np.ndarray) -> np.ndarray:\n",
    "    '''Функция принимает и возвращает одномерный массив'''\n",
    "    s = (x - x.mean()) / x.std()\n",
    "    return s"
   ]
  },
  {
   "cell_type": "code",
   "execution_count": 5,
   "metadata": {},
   "outputs": [],
   "source": [
    "# SGD - стохастический градиентный спуск\n",
    "def eval_SGD(X, y, iterations, eta=1e-4):\n",
    "    np.random.seed(42)\n",
    "    w = np.random.randn(X.shape[1]) # начальное приближение весов\n",
    "    n = X.shape[0] # число наблюдений\n",
    "    errs=[]\n",
    "    for i in range(1, iterations + 1):\n",
    "        err = calc_mse(y, np.dot(X, w))\n",
    "        errs.append(err)\n",
    "        # генерируем случайный индекс объекта выборки\n",
    "        ind = np.random.randint(n)\n",
    "        y_pred = np.dot(X[ind], w)\n",
    "        w -= eta * (2 * np.dot(X[ind].T, (y_pred - y[ind])))\n",
    "        if i % (iterations / 10) == 0:\n",
    "            print(f'{i}: weights={w}, MSE={err:.3f}')\n",
    "    return w, err, errs"
   ]
  },
  {
   "cell_type": "code",
   "execution_count": 6,
   "metadata": {},
   "outputs": [],
   "source": [
    "# mini-batch градиентный спуск\n",
    "def eval_mbGD(X, y, iterations, batch=1, eta=1e-4):\n",
    "    np.random.seed(42)\n",
    "    w = np.random.randn(X.shape[1]) # начальное приближение весов\n",
    "    n = X.shape[0] # число наблюдений\n",
    "    n_batch = n // batch # число батчей\n",
    "    errs=[]\n",
    "    if n % batch != 0:\n",
    "        n_batch += 1\n",
    "    print('Количество батчей - ', n_batch)\n",
    "    for i in range(1, iterations + 1):\n",
    "        err = calc_mse(y, np.dot(X, w))\n",
    "        errs.append(err)\n",
    "        for b in range(n_batch):\n",
    "            start_ = batch * b\n",
    "            end_ = batch * (b + 1)\n",
    "            X_batch = X[start_ : end_, :]\n",
    "            y_batch = y[start_ : end_]\n",
    "            y_pred = np.dot(X_batch, w)\n",
    "            w -= eta * (2/len(y_batch) * np.dot(X_batch.T, (y_pred - y_batch)))\n",
    "        if i % (iterations / 10) == 0:\n",
    "            print(f'{i}: weights={w}, MSE={err:.3f}')\n",
    "    return w, err, errs"
   ]
  },
  {
   "cell_type": "code",
   "execution_count": 7,
   "metadata": {},
   "outputs": [],
   "source": [
    "iterat = 1200\n",
    "ETA = 1e-3"
   ]
  },
  {
   "cell_type": "code",
   "execution_count": 8,
   "metadata": {},
   "outputs": [],
   "source": [
    "# стандартизация\n",
    "X_st = X_.copy().astype(np.float64)\n",
    "X_st[:, 0] = standardization(X_[:, 0])\n",
    "X_st[:, 1] = standardization(X_[:, 1])\n",
    "#print(X_st[:, 0])\n",
    "#print(X_st[:, 1])"
   ]
  },
  {
   "cell_type": "code",
   "execution_count": 9,
   "metadata": {},
   "outputs": [
    {
     "name": "stdout",
     "output_type": "stream",
     "text": [
      "120: weights=[8.78701672 1.36174078], MSE=992.576\n",
      "240: weights=[15.30610082  2.5373516 ], MSE=624.039\n",
      "360: weights=[20.4323882   3.45871175], MSE=396.202\n",
      "480: weights=[24.46345019  4.18079996], MSE=255.349\n",
      "600: weights=[27.63328161  4.74670821], MSE=168.271\n",
      "720: weights=[30.12588407  5.19021135], MSE=114.438\n",
      "840: weights=[32.08594708  5.53778131], MSE=81.157\n",
      "960: weights=[33.62724719  5.81016596], MSE=60.582\n",
      "1080: weights=[34.83925257  6.02362659], MSE=47.862\n",
      "1200: weights=[35.79231654  6.19090802], MSE=39.998\n",
      "MSE для метода градиентного спуска для данных c стандартизацией - 39.94747787232421\n",
      "\n",
      "Wall time: 98 ms\n"
     ]
    }
   ],
   "source": [
    "%%time\n",
    "w_gd, errs_gd = eval_GD(X_st, y_, iterations=iterat, eta=ETA)\n",
    "y_pred = np.dot(X_st, w_gd)\n",
    "err_gd = calc_mse(y_, y_pred)\n",
    "print(f'MSE для метода градиентного спуска для данных c стандартизацией - {err_gd}\\n')"
   ]
  },
  {
   "cell_type": "code",
   "execution_count": 10,
   "metadata": {},
   "outputs": [
    {
     "name": "stdout",
     "output_type": "stream",
     "text": [
      "120: weights=[7.15952821 1.82849528], MSE=1086.544\n",
      "240: weights=[15.15486524  4.17348449], MSE=618.520\n",
      "360: weights=[20.49783787  4.87329342], MSE=384.717\n",
      "480: weights=[24.91016471  5.4232574 ], MSE=236.465\n",
      "600: weights=[28.42921525  5.78658852], MSE=146.551\n",
      "720: weights=[30.66967419  5.88495568], MSE=102.709\n",
      "840: weights=[32.66098295  6.10446496], MSE=71.925\n",
      "960: weights=[33.7983281   6.27337875], MSE=58.029\n",
      "1080: weights=[35.00708536  6.43090107], MSE=45.839\n",
      "1200: weights=[36.09173625  6.74924512], MSE=37.550\n",
      "Wall time: 112 ms\n"
     ]
    }
   ],
   "source": [
    "%%time\n",
    "\n",
    "w_SGD,err_SGD, errs_SGD = eval_SGD(X_st, y_, iterations=iterat, eta=ETA) "
   ]
  },
  {
   "cell_type": "code",
   "execution_count": 11,
   "metadata": {},
   "outputs": [
    {
     "name": "stdout",
     "output_type": "stream",
     "text": [
      "Количество батчей -  2\n",
      "120: weights=[15.24488226  2.48204718], MSE=629.856\n",
      "240: weights=[24.38307772  4.10655468], MSE=259.066\n",
      "360: weights=[30.04524613  5.11369808], MSE=116.538\n",
      "480: weights=[33.55361377  5.73809634], MSE=61.712\n",
      "600: weights=[35.72745281  6.12520498], MSE=40.597\n",
      "720: weights=[37.07439715  6.36520144], MSE=32.450\n",
      "840: weights=[37.90898467  6.51399276], MSE=29.297\n",
      "960: weights=[38.42610796  6.60623953], MSE=28.072\n",
      "1080: weights=[38.74652551  6.66343025], MSE=27.591\n",
      "1200: weights=[38.94506113  6.69888714], MSE=27.401\n",
      "Wall time: 167 ms\n"
     ]
    }
   ],
   "source": [
    "%%time\n",
    "\n",
    "w_mbSGD, err_mbGD, errs_mbGD = eval_mbGD(X_st, y_, iterations=iterat, batch=600, eta=ETA) "
   ]
  },
  {
   "cell_type": "code",
   "execution_count": 12,
   "metadata": {},
   "outputs": [
    {
     "data": {
      "image/png": "[encoded data removed]",
      "text/plain": [
       "<Figure size 432x288 with 1 Axes>"
      ]
     },
     "metadata": {
      "needs_background": "light"
     },
     "output_type": "display_data"
    }
   ],
   "source": [
    "plt.plot(errs_gd,label=r'err GD')\n",
    "plt.plot(errs_SGD,label=r'err SGD')\n",
    "plt.plot(errs_mbGD,label=r'err mbGD')\n",
    "plt.title(f\"Графики среднеквадратичной ошибки от числа итераций {iterat}\")\n",
    "plt.xlim([0, iterat])\n",
    "plt.legend();"
   ]
  },
  {
   "cell_type": "markdown",
   "metadata": {},
   "source": [
    "2)[*] Добавить в алгоритм градиентного спуска L1 регуляризацию. Сравнить влияние коэффициентов регуляризации L1 и L2 на величину весов для примера из урока (лучше графически)."
   ]
  },
  {
   "cell_type": "code",
   "execution_count": 13,
   "metadata": {},
   "outputs": [],
   "source": [
    "def eval_model_reg2(X, y, iterations, eta=1e-4, lambda_=1e-8, verbose=False):\n",
    "    np.random.seed(42)\n",
    "    w = np.random.randn(X.shape[1])\n",
    "    n = X.shape[0]\n",
    "    for i in range(1, iterations + 1):\n",
    "        y_pred = np.dot(X, w)\n",
    "        err = calc_mse(y, y_pred)\n",
    "        w -= eta * (1/n * 2 * np.dot(X.T, (y_pred - y)) + 2 * lambda_ * w)\n",
    "        if verbose and i % (iterations / 10) == 0:\n",
    "            print(f'L2 = {i}: weights={w}, MSE={err:.3f}')\n",
    "    return w"
   ]
  },
  {
   "cell_type": "code",
   "execution_count": 14,
   "metadata": {},
   "outputs": [],
   "source": [
    "def eval_model_reg1(X, y, iterations, eta=1e-4, lambda_=10, verbose=False):\n",
    "    np.random.seed(42)\n",
    "    w = np.random.randn(X.shape[1])\n",
    "    n = X.shape[0]    \n",
    "    for i in range(1, iterations + 1):\n",
    "        y_pred = np.dot(X, w)\n",
    "        err = calc_mse(y, y_pred)\n",
    "        #w -= eta * (1/n * 2 * np.dot(X.T, (y_pred - y)) + 2 * lambda_ * w)\n",
    "        w -= eta * (1/n * 2 * np.dot(X.T, (y_pred - y)) + lambda_ * np.sign(w)) \n",
    "        if verbose and i % (iterations / 10) == 0:\n",
    "            print(f'L1 = {i}: weights={w}, MSE={err:.3f}')\n",
    "    return w"
   ]
  },
  {
   "cell_type": "code",
   "execution_count": 15,
   "metadata": {},
   "outputs": [],
   "source": [
    "def eval_model_ElasticNet(X, y, iterations, eta=1e-4, L1_=0, L2_=1e-8, verbose=False):\n",
    "    np.random.seed(42)\n",
    "    w = np.random.randn(X.shape[1])\n",
    "    n = X.shape[0]    \n",
    "    for i in range(1, iterations + 1):\n",
    "        y_pred = np.dot(X, w)\n",
    "        err = calc_mse(y, y_pred)\n",
    "        #w -= eta * (1/n * 2 * np.dot(X.T, (y_pred - y)) + 2 * lambda_ * w)\n",
    "        w -= eta * (1/n * 2 * np.dot(X.T, (y_pred - y)) + 2 * L2_ * w + L1_ * np.sign(w)) \n",
    "        if verbose and i % (iterations / 10) == 0:\n",
    "            print(f'L1+L2 = {i}: weights={w}, MSE={err:.3f}')\n",
    "    return w"
   ]
  },
  {
   "cell_type": "code",
   "execution_count": 16,
   "metadata": {},
   "outputs": [
    {
     "name": "stdout",
     "output_type": "stream",
     "text": [
      "L2 = 100: weights=[7.5398916  1.13641926], MSE=1073.133\n",
      "L2 = 200: weights=[13.30466326  2.17684739], MSE=727.798\n",
      "L2 = 300: weights=[18.02307356  3.0260637 ], MSE=496.490\n",
      "L2 = 400: weights=[21.88504811  3.7192039 ], MSE=341.557\n",
      "L2 = 500: weights=[25.04603886  4.28494842], MSE=237.782\n",
      "L2 = 600: weights=[27.63328148  4.74670819], MSE=168.271\n",
      "L2 = 700: weights=[29.75091693  5.1235927 ], MSE=121.713\n",
      "L2 = 800: weights=[31.48418348  5.43120021], MSE=90.527\n",
      "L2 = 900: weights=[32.90284773  5.6822628 ], MSE=69.639\n",
      "L2 = 1000: weights=[34.06401292  5.88717294], MSE=55.647\n"
     ]
    }
   ],
   "source": [
    "w_l2 = eval_model_reg2(X_st, y_, iterations=1000, eta=1e-3, lambda_=1e-8, verbose=True)"
   ]
  },
  {
   "cell_type": "code",
   "execution_count": 17,
   "metadata": {},
   "outputs": [
    {
     "name": "stdout",
     "output_type": "stream",
     "text": [
      "L1 = 100: weights=[7.35848871 0.98479627], MSE=1086.360\n",
      "L1 = 200: weights=[12.97484889  1.87142247], MSE=747.975\n",
      "L1 = 300: weights=[17.57183966  2.59480452], MSE=519.379\n",
      "L1 = 400: weights=[21.33447756  3.18499244], MSE=364.675\n",
      "L1 = 500: weights=[24.41419827  3.66650572], MSE=259.754\n",
      "L1 = 600: weights=[26.93495163  4.05935105], MSE=188.416\n",
      "L1 = 700: weights=[28.99819039  4.37985267], MSE=139.765\n",
      "L1 = 800: weights=[30.68695351  4.64133007], MSE=106.468\n",
      "L1 = 900: weights=[32.06920829  4.85465093], MSE=83.584\n",
      "L1 = 1000: weights=[33.20058588  5.02868239], MSE=67.782\n"
     ]
    }
   ],
   "source": [
    "w_l1 = eval_model_reg1(X_st, y_, iterations=1000, eta=1e-3, lambda_=2, verbose=True)"
   ]
  },
  {
   "cell_type": "code",
   "execution_count": 18,
   "metadata": {},
   "outputs": [
    {
     "name": "stdout",
     "output_type": "stream",
     "text": [
      "L1+L2 = 100: weights=[7.53082138 1.12900514], MSE=1073.790\n",
      "L1+L2 = 200: weights=[13.28817241  2.16171287], MSE=728.796\n",
      "L1+L2 = 300: weights=[18.00051169  3.00461266], MSE=497.615\n",
      "L1+L2 = 400: weights=[21.85751939  3.69258494], MSE=342.684\n",
      "L1+L2 = 500: weights=[25.01444664  4.25410127], MSE=238.843\n",
      "L1+L2 = 600: weights=[27.59836479  4.71240171], MSE=169.233\n",
      "L1+L2 = 700: weights=[29.71328042  5.08645594], MSE=122.562\n",
      "L1+L2 = 800: weights=[31.44432181  5.39174783], MSE=91.264\n",
      "L1+L2 = 900: weights=[32.86116559  5.64091587], MSE=70.270\n",
      "L1+L2 = 1000: weights=[34.02084141  5.84427597], MSE=56.183\n"
     ]
    }
   ],
   "source": [
    "w_l1_l2 = eval_model_ElasticNet(X_st, y_, iterations=1000, eta=1e-3, L1_=0.1, L2_=1e-8,verbose=True)"
   ]
  },
  {
   "cell_type": "code",
   "execution_count": 25,
   "metadata": {},
   "outputs": [],
   "source": [
    "def experiment(reg = 1, verbose = False):\n",
    "    if reg ==1 or reg==2 or reg==3: \n",
    "        w_list = []\n",
    "        l_list = []\n",
    "        error_list = []\n",
    "\n",
    "        for l in np.logspace(start=-4, stop=1, num=20):\n",
    "            l_list.append(l)\n",
    "            if reg == 1:\n",
    "                w_new = eval_model_reg1(X_st, y_, iterations=1000, eta=1e-2, lambda_= l)\n",
    "            if reg == 2:\n",
    "                w_new = eval_model_reg2(X_st, y_, iterations=1000, eta=1e-2, lambda_= l)\n",
    "            if reg == 3:\n",
    "                w_new = eval_model_ElasticNet(X_st, y_, iterations=1000, eta=1e-3, L1_=0.01, L2_=l,verbose=verbose)\n",
    "            w_list.append(w_new)\n",
    "            error_list.append(calc_mse(y_, np.dot(X_st, w_new)))\n",
    "        weights = np.array(w_list)\n",
    "        errors = np.array(error_list)\n",
    "        return weights, errors, l_list\n",
    "    else:\n",
    "        print(\"Неверно задан номер эксперимента. укажите для L1 =1, L2=2, L1 и L2 =3\")\n",
    "        return None, None, None"
   ]
  },
  {
   "cell_type": "code",
   "execution_count": 26,
   "metadata": {},
   "outputs": [],
   "source": [
    "weights1, errors1,l_list1 = experiment(reg = 1,verbose = False)\n",
    "weights2, errors2,l_list2 = experiment(reg = 2,verbose = False)\n",
    "weights3, errors3,l_list3 = experiment(reg = 3,verbose = False)"
   ]
  },
  {
   "cell_type": "code",
   "execution_count": 27,
   "metadata": {},
   "outputs": [
    {
     "data": {
      "image/png": "[encoded data removed]",
      "text/plain": [
       "<Figure size 720x360 with 1 Axes>"
      ]
     },
     "metadata": {
      "needs_background": "light"
     },
     "output_type": "display_data"
    }
   ],
   "source": [
    "plt.figure(figsize=(10, 5))\n",
    "plt.xscale('log')\n",
    "#plt.plot(l_list, weights[:, 0], 'mo-', label=r'$w_0$')\n",
    "plt.plot(l_list1, weights1[:, 0], 'go-', label=r'$w_1-L1$')\n",
    "plt.plot(l_list1, weights1[:, 1], 'bo-', label=r'$w_2-L1$')\n",
    "plt.plot(l_list2, weights2[:, 0], 'yo-', label=r'$w_1-L2$')\n",
    "plt.plot(l_list2, weights2[:, 1], 'ko-', label=r'$w_2-L2$')\n",
    "plt.plot(l_list3, weights3[:, 0], 'mx-', label=r'$w_1-L1+L2$')\n",
    "plt.plot(l_list3, weights3[:, 1], 'cx-', label=r'$w_2-L1+L2$')\n",
    "plt.xlabel('Коэффициент L1,L2,ElasticNet L1+L2  регуляризации')\n",
    "plt.ylabel('Веса')\n",
    "plt.grid()\n",
    "plt.legend();"
   ]
  },
  {
   "cell_type": "code",
   "execution_count": 30,
   "metadata": {},
   "outputs": [
    {
     "data": {
      "image/png": "[encoded data removed]",
      "text/plain": [
       "<Figure size 432x288 with 1 Axes>"
      ]
     },
     "metadata": {
      "needs_background": "light"
     },
     "output_type": "display_data"
    }
   ],
   "source": [
    "plt.plot(errors1, 'go-', label=r'$err-L1$')\n",
    "plt.plot(errors2, 'bo-', label=r'$err-L2$')\n",
    "plt.plot(errors3, 'yo-', label=r'$err-L1+L2$')\n",
    "plt.legend();"
   ]
  },
  {
   "cell_type": "markdown",
   "metadata": {},
   "source": [
    "для меня:\n",
    "L1-регуляризация реализует это путём отбора наиболее важных факторов, которые сильнее всего влияют на результат. Для простоты можете считать, что факторы с малой величиной влияния на конечный результат фактически «помогают» вам предсказывать лишь шум в наборе обучающих данных.\n",
    "L2-регуляризация предотвращает переобученность модели путём запрета на непропорционально большие весовые коэффициенты."
   ]
  }
 ],
 "metadata": {
  "kernelspec": {
   "display_name": "Python 3",
   "language": "python",
   "name": "python3"
  },
  "language_info": {
   "codemirror_mode": {
    "name": "ipython",
    "version": 3
   },
   "file_extension": ".py",
   "mimetype": "text/x-python",
   "name": "python",
   "nbconvert_exporter": "python",
   "pygments_lexer": "ipython3",
   "version": "3.8.3"
  }
 },
 "nbformat": 4,
 "nbformat_minor": 4
}
