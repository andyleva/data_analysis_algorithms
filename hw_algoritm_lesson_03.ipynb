{
 "cells": [
  {
   "cell_type": "markdown",
   "metadata": {},
   "source": [
    "# Алгоритмы анализа данных"
   ]
  },
  {
   "cell_type": "markdown",
   "metadata": {},
   "source": [
    "### Домашнее задание №3 Урок 3. Логистическая регрессия. Log Loss"
   ]
  },
  {
   "cell_type": "code",
   "execution_count": 1,
   "metadata": {},
   "outputs": [],
   "source": [
    "## вводные данные к ДЗ"
   ]
  },
  {
   "cell_type": "code",
   "execution_count": 2,
   "metadata": {},
   "outputs": [],
   "source": [
    "import numpy as np\n",
    "import matplotlib.pyplot as plt\n",
    "%matplotlib inline\n",
    "plt.style.use('seaborn-ticks')\n",
    "plt.rcParams.update({'font.size': 14})"
   ]
  },
  {
   "cell_type": "code",
   "execution_count": 3,
   "metadata": {},
   "outputs": [],
   "source": [
    "def sigmoid(z):\n",
    "    return 1 / (1 + np.exp(-z))"
   ]
  },
  {
   "cell_type": "code",
   "execution_count": 4,
   "metadata": {},
   "outputs": [
    {
     "data": {
      "text/plain": [
       "array([[1.00e+00, 1.00e+00, 5.00e+02, 1.00e+00],\n",
       "       [1.00e+00, 1.00e+00, 7.00e+02, 1.00e+00],\n",
       "       [1.00e+00, 2.00e+00, 7.50e+02, 2.00e+00],\n",
       "       [1.00e+00, 1.00e+00, 6.00e+02, 1.00e+00],\n",
       "       [1.00e+00, 3.00e+00, 1.45e+03, 2.00e+00],\n",
       "       [1.00e+00, 0.00e+00, 8.00e+02, 1.00e+00],\n",
       "       [1.00e+00, 5.00e+00, 1.50e+03, 3.00e+00],\n",
       "       [1.00e+00, 1.00e+01, 2.00e+03, 3.00e+00],\n",
       "       [1.00e+00, 1.00e+00, 4.50e+02, 1.00e+00],\n",
       "       [1.00e+00, 2.00e+00, 1.00e+03, 2.00e+00]])"
      ]
     },
     "execution_count": 4,
     "metadata": {},
     "output_type": "execute_result"
    }
   ],
   "source": [
    "X = np.array([[1, 1, 1, 1, 1, 1, 1, 1, 1, 1],\n",
    "              [1, 1, 2, 1, 3, 0, 5, 10, 1, 2],  # стаж репетитора\n",
    "              [500, 700, 750, 600, 1450,        # средняя стоимость занятия\n",
    "               800, 1500, 2000, 450, 1000],\n",
    "              [1, 1, 2, 1, 2, 1, 3, 3, 1, 2]],  # квалификация репетитора\n",
    "              dtype = np.float64).T \n",
    "\n",
    "y = np.array([0, 0, 1, 0, 1, 0, 1, 0, 1, 1]) # поступил или нет ученик на специальность Математика\n",
    "X"
   ]
  },
  {
   "cell_type": "code",
   "execution_count": 5,
   "metadata": {},
   "outputs": [
    {
     "data": {
      "text/plain": [
       "array([-0.97958969, -0.56713087, -0.46401617, -0.77336028,  0.97958969,\n",
       "       -0.36090146,  1.08270439,  2.11385144, -1.08270439,  0.05155735])"
      ]
     },
     "execution_count": 5,
     "metadata": {},
     "output_type": "execute_result"
    }
   ],
   "source": [
    "def standardization(x: np.ndarray) -> np.ndarray:\n",
    "    s = (x - x.mean()) / x.std()\n",
    "    return s\n",
    "\n",
    "X_st = X.copy()\n",
    "X_st[:, 2] = standardization(X[:, 2])\n",
    "X_st[:, 2]"
   ]
  },
  {
   "cell_type": "markdown",
   "metadata": {},
   "source": [
    "#### 1.Измените функцию calc_logloss так, чтобы нули по возможности не попадали в np.log (как вариант - использовать np.clip или np.where)."
   ]
  },
  {
   "cell_type": "code",
   "execution_count": 6,
   "metadata": {},
   "outputs": [
    {
     "data": {
      "text/plain": [
       "'def calc_logloss(y, p):\\n    err = np.mean(- y * np.log(p) - (1.0 - y) * np.log(1.0 - p))\\n    return err'"
      ]
     },
     "execution_count": 6,
     "metadata": {},
     "output_type": "execute_result"
    }
   ],
   "source": [
    "'''def calc_logloss(y, p):\n",
    "    err = np.mean(- y * np.log(p) - (1.0 - y) * np.log(1.0 - p))\n",
    "    return err'''"
   ]
  },
  {
   "cell_type": "code",
   "execution_count": 7,
   "metadata": {},
   "outputs": [],
   "source": [
    "def calc_logloss(y, p):\n",
    "    # обработка данных, чтобы в расчет не попадали числа 0 и 1, тк в противном случае ылгоритм выдаст ошибку    \n",
    "    np.clip(p, 1e-10, (1-1e-10))    \n",
    "    err = np.mean(- y * np.log(p) - (1.0 - y) * np.log(1.0 - p))\n",
    "    return err"
   ]
  },
  {
   "cell_type": "code",
   "execution_count": 8,
   "metadata": {},
   "outputs": [],
   "source": [
    "# логистическая регрессия\n",
    "def eval_LR_model(X, y, iterations, eta=1e-4, meaning=0.):    \n",
    "    np.random.seed(42)\n",
    "    w = np.random.randn(X.shape[1])\n",
    "    n = X.shape[0]\n",
    "    errs=[]\n",
    "    for i in range(1, iterations + 1):\n",
    "        z = np.dot(X, w) # log(p/(1-p))\n",
    "        pred = sigmoid(z) # p [0, 1]        \n",
    "        err = calc_logloss(y, pred)        \n",
    "        errs.append(err)\n",
    "        w -= eta * (1/n * np.dot((pred - y), X))\n",
    "        if err<=meaning:            \n",
    "            #print(f\"точка останова {i}, {eta}, {w}, {err}\")\n",
    "            break\n",
    "        #if i % (iterations / 10) == 0:            \n",
    "            #print(f\"{i}, {eta}, {w}, {err}\")\n",
    "    print(f\"точка останова: iterations = {i}, eta = {eta}, w = {w}, err = {err}\")\n",
    "    return w,errs"
   ]
  },
  {
   "cell_type": "code",
   "execution_count": 9,
   "metadata": {},
   "outputs": [
    {
     "name": "stdout",
     "output_type": "stream",
     "text": [
      "точка останова: iterations = 1000, eta = 0.1, w = [-2.77136565 -0.99588853  0.56641089  3.26813012], err = 0.40587815270727734\n"
     ]
    }
   ],
   "source": [
    "w, errs = eval_LR_model(X_st, y, 1000, 1e-1)"
   ]
  },
  {
   "cell_type": "code",
   "execution_count": 10,
   "metadata": {},
   "outputs": [
    {
     "name": "stdout",
     "output_type": "stream",
     "text": [
      "prob = [0.26 0.31 0.82 0.28 0.79 0.57 0.94 0.15 0.25 0.86]\n",
      "true = [0 0 1 0 1 0 1 0 1 1]\n",
      "pred = [0 0 1 0 1 1 1 0 0 1]\n"
     ]
    }
   ],
   "source": [
    "pred = sigmoid(np.dot(X_st, w))\n",
    "print('prob =', pred.round(2))\n",
    "print('true =', y)\n",
    "print('pred =', np.where(pred > 0.5, 1, 0))"
   ]
  },
  {
   "cell_type": "markdown",
   "metadata": {},
   "source": [
    "#### 2.На данных из урока изучите влияние гиперпараметров на ошибку алгоритма. Подберите аргументы функции eval_LR_model для логистической регрессии таким образом, чтобы log loss не превышал значение 0.3 (0.1). Как изменились веса?"
   ]
  },
  {
   "cell_type": "code",
   "execution_count": 11,
   "metadata": {},
   "outputs": [
    {
     "name": "stdout",
     "output_type": "stream",
     "text": [
      "точка останова: iterations = 1000, eta = 0.1, w = [-2.77136565 -0.99588853  0.56641089  3.26813012], err = 0.40587815270727734\n",
      "0.40587815270727734\n",
      "точка останова: iterations = 2000, eta = 0.10500000000000001, w = [-4.7401179  -1.04070524 -0.19439969  4.54568871], err = 0.3497838325465856\n",
      "0.3497838325465856\n",
      "точка останова: iterations = 3000, eta = 0.11000000000000001, w = [-6.24708188 -1.10440868 -0.74015074  5.60472853], err = 0.31877517376486014\n",
      "0.31877517376486014\n",
      "точка останова: iterations = 3877, eta = 0.11500000000000002, w = [-7.38657909 -1.16938636 -1.13098171  6.44966838], err = 0.2999930632665711\n",
      "0.2999930632665711\n",
      "точка останова: iterations = 3716, eta = 0.12000000000000002, w = [-7.38719444 -1.16942454 -1.13118885  6.45013294], err = 0.29998443173780925\n",
      "0.29998443173780925\n"
     ]
    },
    {
     "data": {
      "image/png": "[encoded data removed]",
      "text/plain": [
       "<Figure size 432x288 with 1 Axes>"
      ]
     },
     "metadata": {},
     "output_type": "display_data"
    }
   ],
   "source": [
    "eta = 0.1\n",
    "iterations = 1000\n",
    "logloss_03 = 1000\n",
    "while iterations <= 5001:\n",
    "    w_it1, errs = eval_LR_model(X_st, y, iterations, eta, 0.3)\n",
    "    logloss_03 = (errs[len(errs)-1])\n",
    "    print(logloss_03)\n",
    "    iterations += 1000\n",
    "    eta += 0.005 \n",
    "    plt.plot(errs)    \n",
    "plt.show()"
   ]
  },
  {
   "cell_type": "code",
   "execution_count": 12,
   "metadata": {},
   "outputs": [
    {
     "name": "stdout",
     "output_type": "stream",
     "text": [
      "точка останова: iterations = 1000, eta = 0.1, w = [-2.77136565 -0.99588853  0.56641089  3.26813012], err = 0.40587815270727734\n",
      "точка останова: iterations = 6000, eta = 0.15000000000000002, w = [-10.67267042  -1.40573819  -2.19513837   9.01476125], err = 0.25866317706248043\n",
      "точка останова: iterations = 11000, eta = 0.2, w = [-17.08653886  -1.94203375  -4.15855934  14.19343835], err = 0.2024984800482502\n",
      "точка останова: iterations = 16000, eta = 0.25, w = [-23.33048161  -2.48709058  -6.00977004  19.25874609], err = 0.1641579100655441\n",
      "точка останова: iterations = 21000, eta = 0.3, w = [-29.12957528  -2.99899265  -7.69822801  23.95379367], err = 0.138398346549699\n",
      "точка останова: iterations = 26000, eta = 0.35, w = [-34.44262346  -3.46721273  -9.22964786  28.23947825], err = 0.12073667001487964\n",
      "точка останова: iterations = 31000, eta = 0.39999999999999997, w = [-39.34698915  -3.89436118 -10.63772982  32.17565917], err = 0.10804230415106805\n",
      "точка останова: iterations = 34388, eta = 0.44999999999999996, w = [-43.12737752  -4.21759802 -11.72364844  35.19259596], err = 0.09999928838100416\n",
      "точка останова: iterations = 30949, eta = 0.49999999999999994, w = [-43.1273691   -4.21759731 -11.72364602  35.19258926], err = 0.09999941668404558\n",
      "точка останова: iterations = 28135, eta = 0.5499999999999999, w = [-43.12720051  -4.21758305 -11.72359753  35.19245511], err = 0.09999985936618501\n"
     ]
    },
    {
     "data": {
      "image/png": "[encoded data removed]",
      "text/plain": [
       "<Figure size 432x288 with 1 Axes>"
      ]
     },
     "metadata": {},
     "output_type": "display_data"
    }
   ],
   "source": [
    "eta = 0.1\n",
    "iterations = 1000\n",
    "logloss_03 = 1000\n",
    "while iterations <= 50001:\n",
    "    w_it2, errs = eval_LR_model(X_st, y, iterations, eta, 0.1)\n",
    "    logloss_03 = (errs[len(errs)-1])    \n",
    "    iterations += 5000\n",
    "    eta += 0.05 \n",
    "    plt.plot(errs)"
   ]
  },
  {
   "cell_type": "markdown",
   "metadata": {},
   "source": [
    "#### 3.Создайте функцию calc_pred_proba, возвращающую предсказанную вероятность класса \"1\". На вход функции подаются значения признаков Х и веса, которые уже посчитаны функцией eval_LR_model."
   ]
  },
  {
   "cell_type": "code",
   "execution_count": 13,
   "metadata": {},
   "outputs": [],
   "source": [
    "def calc_pred_proba(X_st, w):\n",
    "    pred = sigmoid(np.dot(X_st, w))    \n",
    "    return pred"
   ]
  },
  {
   "cell_type": "code",
   "execution_count": 14,
   "metadata": {},
   "outputs": [
    {
     "name": "stdout",
     "output_type": "stream",
     "text": [
      "prob = [0.25846265 0.3056887  0.81910473 0.28147361 0.79118436 0.57257036\n",
      " 0.93504121 0.15077287 0.24742752 0.85843113]\n"
     ]
    }
   ],
   "source": [
    "print('prob =', calc_pred_proba(X_st, w))"
   ]
  },
  {
   "cell_type": "markdown",
   "metadata": {},
   "source": [
    "#### 4.Создайте функцию calc_pred, возвращающую предсказанные классы (0 или 1). На вход функции подаются значения признаков Х и веса, которые уже посчитаны функцией eval_LR_model, а также порог вероятности."
   ]
  },
  {
   "cell_type": "code",
   "execution_count": 15,
   "metadata": {},
   "outputs": [],
   "source": [
    "def calc_pred_probability(X_st, w, probability):\n",
    "    pred = sigmoid(np.dot(X_st, w))  \n",
    "    print(pred)\n",
    "    return np.where(pred > probability, 1, 0)"
   ]
  },
  {
   "cell_type": "code",
   "execution_count": 34,
   "metadata": {},
   "outputs": [
    {
     "name": "stdout",
     "output_type": "stream",
     "text": [
      "[0.25846265 0.3056887  0.81910473 0.28147361 0.79118436 0.57257036\n",
      " 0.93504121 0.15077287 0.24742752 0.85843113]\n",
      "pred = [0 0 1 0 0 0 1 0 0 1]\n",
      "y    = [0 0 1 0 1 0 1 0 1 1]\n"
     ]
    }
   ],
   "source": [
    "pred_new = calc_pred_probability(X_st, w, 0.80)\n",
    "print('pred =', pred_new)\n",
    "print('y    =', y)"
   ]
  },
  {
   "cell_type": "markdown",
   "metadata": {},
   "source": [
    "#### 5.(*) Напишите функции для расчета accuracy, матрицы ошибок, precision и recall, а также F1-score."
   ]
  },
  {
   "cell_type": "code",
   "execution_count": 35,
   "metadata": {},
   "outputs": [],
   "source": [
    "import pandas as pd"
   ]
  },
  {
   "cell_type": "code",
   "execution_count": 36,
   "metadata": {},
   "outputs": [
    {
     "data": {
      "text/html": [
       "<div>\n",
       "<style scoped>\n",
       "    .dataframe tbody tr th:only-of-type {\n",
       "        vertical-align: middle;\n",
       "    }\n",
       "\n",
       "    .dataframe tbody tr th {\n",
       "        vertical-align: top;\n",
       "    }\n",
       "\n",
       "    .dataframe thead th {\n",
       "        text-align: right;\n",
       "    }\n",
       "</style>\n",
       "<table border=\"1\" class=\"dataframe\">\n",
       "  <thead>\n",
       "    <tr style=\"text-align: right;\">\n",
       "      <th></th>\n",
       "      <th>y</th>\n",
       "      <th>pred</th>\n",
       "    </tr>\n",
       "  </thead>\n",
       "  <tbody>\n",
       "    <tr>\n",
       "      <th>0</th>\n",
       "      <td>0</td>\n",
       "      <td>0</td>\n",
       "    </tr>\n",
       "    <tr>\n",
       "      <th>1</th>\n",
       "      <td>0</td>\n",
       "      <td>0</td>\n",
       "    </tr>\n",
       "    <tr>\n",
       "      <th>2</th>\n",
       "      <td>1</td>\n",
       "      <td>1</td>\n",
       "    </tr>\n",
       "    <tr>\n",
       "      <th>3</th>\n",
       "      <td>0</td>\n",
       "      <td>0</td>\n",
       "    </tr>\n",
       "    <tr>\n",
       "      <th>4</th>\n",
       "      <td>1</td>\n",
       "      <td>0</td>\n",
       "    </tr>\n",
       "    <tr>\n",
       "      <th>5</th>\n",
       "      <td>0</td>\n",
       "      <td>0</td>\n",
       "    </tr>\n",
       "    <tr>\n",
       "      <th>6</th>\n",
       "      <td>1</td>\n",
       "      <td>1</td>\n",
       "    </tr>\n",
       "    <tr>\n",
       "      <th>7</th>\n",
       "      <td>0</td>\n",
       "      <td>0</td>\n",
       "    </tr>\n",
       "    <tr>\n",
       "      <th>8</th>\n",
       "      <td>1</td>\n",
       "      <td>0</td>\n",
       "    </tr>\n",
       "    <tr>\n",
       "      <th>9</th>\n",
       "      <td>1</td>\n",
       "      <td>1</td>\n",
       "    </tr>\n",
       "  </tbody>\n",
       "</table>\n",
       "</div>"
      ],
      "text/plain": [
       "   y  pred\n",
       "0  0     0\n",
       "1  0     0\n",
       "2  1     1\n",
       "3  0     0\n",
       "4  1     0\n",
       "5  0     0\n",
       "6  1     1\n",
       "7  0     0\n",
       "8  1     0\n",
       "9  1     1"
      ]
     },
     "execution_count": 36,
     "metadata": {},
     "output_type": "execute_result"
    }
   ],
   "source": [
    "df = pd.DataFrame(y,columns=['y'])\n",
    "df['pred']= pred_new\n",
    "df"
   ]
  },
  {
   "cell_type": "code",
   "execution_count": 37,
   "metadata": {},
   "outputs": [],
   "source": [
    "matrix_err = np.zeros((2,2))"
   ]
  },
  {
   "cell_type": "code",
   "execution_count": 38,
   "metadata": {},
   "outputs": [
    {
     "data": {
      "text/plain": [
       "(3, 0, 2, 5)"
      ]
     },
     "execution_count": 38,
     "metadata": {},
     "output_type": "execute_result"
    }
   ],
   "source": [
    "matrix_err[0,0] = TP = df.loc[(df.y==1) & (df.pred==1)].shape[0]\n",
    "matrix_err[0,1] = FP = df.loc[(df.y==0) & (df.pred==1)].shape[0]\n",
    "matrix_err[1,0] = FN = df.loc[(df.y==1) & (df.pred==0)].shape[0]\n",
    "matrix_err[1,1] = TN = df.loc[(df.y==0) & (df.pred==0)].shape[0]\n",
    "TP, FP, FN, TN "
   ]
  },
  {
   "cell_type": "code",
   "execution_count": 39,
   "metadata": {},
   "outputs": [
    {
     "name": "stdout",
     "output_type": "stream",
     "text": [
      "Матрица ошибок:  \n",
      "[[3. 0.]\n",
      " [2. 5.]]\n"
     ]
    }
   ],
   "source": [
    "print(f'Матрица ошибок:  \\n{matrix_err}')"
   ]
  },
  {
   "cell_type": "code",
   "execution_count": 40,
   "metadata": {},
   "outputs": [
    {
     "data": {
      "text/plain": [
       "0.8"
      ]
     },
     "execution_count": 40,
     "metadata": {},
     "output_type": "execute_result"
    }
   ],
   "source": [
    "𝑎𝑐𝑐𝑢𝑟𝑎𝑐𝑦 = (TP + TN) / df.shape[0]\n",
    "𝑎𝑐𝑐𝑢𝑟𝑎𝑐𝑦"
   ]
  },
  {
   "cell_type": "code",
   "execution_count": 41,
   "metadata": {},
   "outputs": [
    {
     "data": {
      "text/plain": [
       "1.0"
      ]
     },
     "execution_count": 41,
     "metadata": {},
     "output_type": "execute_result"
    }
   ],
   "source": [
    "𝑝𝑟𝑒𝑐𝑖𝑠𝑖𝑜𝑛 = TP /(TP + FP)\n",
    "𝑝𝑟𝑒𝑐𝑖𝑠𝑖𝑜𝑛"
   ]
  },
  {
   "cell_type": "code",
   "execution_count": 42,
   "metadata": {},
   "outputs": [
    {
     "data": {
      "text/plain": [
       "0.6"
      ]
     },
     "execution_count": 42,
     "metadata": {},
     "output_type": "execute_result"
    }
   ],
   "source": [
    "𝑟𝑒𝑐𝑎𝑙𝑙 = TP / (TP + FN)\n",
    "𝑟𝑒𝑐𝑎𝑙𝑙"
   ]
  },
  {
   "cell_type": "code",
   "execution_count": 43,
   "metadata": {},
   "outputs": [
    {
     "data": {
      "text/plain": [
       "0.7499999999999999"
      ]
     },
     "execution_count": 43,
     "metadata": {},
     "output_type": "execute_result"
    }
   ],
   "source": [
    "F = (2 * 𝑝𝑟𝑒𝑐𝑖𝑠𝑖𝑜𝑛 * 𝑟𝑒𝑐𝑎𝑙𝑙)/(𝑝𝑟𝑒𝑐𝑖𝑠𝑖𝑜𝑛 + 𝑟𝑒𝑐𝑎𝑙𝑙)\n",
    "F"
   ]
  },
  {
   "cell_type": "code",
   "execution_count": 44,
   "metadata": {},
   "outputs": [
    {
     "data": {
      "text/plain": [
       "0.0"
      ]
     },
     "execution_count": 44,
     "metadata": {},
     "output_type": "execute_result"
    }
   ],
   "source": [
    "FPR = FP / (FP + FN)\n",
    "FPR"
   ]
  },
  {
   "cell_type": "code",
   "execution_count": 45,
   "metadata": {},
   "outputs": [
    {
     "data": {
      "text/plain": [
       "0.6"
      ]
     },
     "execution_count": 45,
     "metadata": {},
     "output_type": "execute_result"
    }
   ],
   "source": [
    "TPR = TP / (TP + FN)\n",
    "TPR"
   ]
  },
  {
   "cell_type": "code",
   "execution_count": null,
   "metadata": {},
   "outputs": [],
   "source": []
  }
 ],
 "metadata": {
  "kernelspec": {
   "display_name": "Python 3",
   "language": "python",
   "name": "python3"
  },
  "language_info": {
   "codemirror_mode": {
    "name": "ipython",
    "version": 3
   },
   "file_extension": ".py",
   "mimetype": "text/x-python",
   "name": "python",
   "nbconvert_exporter": "python",
   "pygments_lexer": "ipython3",
   "version": "3.8.3"
  }
 },
 "nbformat": 4,
 "nbformat_minor": 4
}
